{
 "cells": [
  {
   "cell_type": "code",
   "execution_count": null,
   "metadata": {
    "id": "cOFxbTj5EXV_"
   },
   "outputs": [],
   "source": [
    "!pip upgrade pip"
   ]
  },
  {
   "cell_type": "code",
   "execution_count": 1,
   "metadata": {
    "id": "NCm1wIMeEXWA"
   },
   "outputs": [
    {
     "name": "stdout",
     "output_type": "stream",
     "text": [
      "Requirement already satisfied: keras in c:\\users\\devang\\anaconda3\\envs\\tensorflow\\lib\\site-packages (2.10.0)\n"
     ]
    }
   ],
   "source": [
    "!pip install keras"
   ]
  },
  {
   "cell_type": "code",
   "execution_count": 4,
   "metadata": {},
   "outputs": [
    {
     "name": "stdout",
     "output_type": "stream",
     "text": [
      "Collecting scikit-learn\n",
      "  Downloading scikit_learn-1.3.0-cp310-cp310-win_amd64.whl (9.2 MB)\n",
      "     ---------------------------------------- 9.2/9.2 MB 6.2 MB/s eta 0:00:00\n",
      "Requirement already satisfied: numpy>=1.17.3 in c:\\users\\devang\\anaconda3\\envs\\tensorflow\\lib\\site-packages (from scikit-learn) (1.23.4)\n",
      "Collecting threadpoolctl>=2.0.0\n",
      "  Downloading threadpoolctl-3.2.0-py3-none-any.whl (15 kB)\n",
      "Collecting joblib>=1.1.1\n",
      "  Downloading joblib-1.3.1-py3-none-any.whl (301 kB)\n",
      "     -------------------------------------- 302.0/302.0 kB 6.2 MB/s eta 0:00:00\n",
      "Requirement already satisfied: scipy>=1.5.0 in c:\\users\\devang\\anaconda3\\envs\\tensorflow\\lib\\site-packages (from scikit-learn) (1.9.3)\n",
      "Installing collected packages: threadpoolctl, joblib, scikit-learn\n",
      "Successfully installed joblib-1.3.1 scikit-learn-1.3.0 threadpoolctl-3.2.0\n"
     ]
    }
   ],
   "source": [
    "!pip install scikit-learn"
   ]
  },
  {
   "cell_type": "code",
   "execution_count": 6,
   "metadata": {
    "id": "9h9VwWrbhEDP"
   },
   "outputs": [],
   "source": [
    "import pandas as pd\n",
    "import numpy as np\n",
    "\n",
    "from sklearn.datasets import load_breast_cancer\n",
    "from sklearn.preprocessing import StandardScaler\n",
    "\n",
    "from keras.models import Sequential\n",
    "from keras.layers import Dense"
   ]
  },
  {
   "cell_type": "code",
   "execution_count": 7,
   "metadata": {
    "id": "PKJ7JWdAmtg8"
   },
   "outputs": [],
   "source": [
    "data = load_breast_cancer()"
   ]
  },
  {
   "cell_type": "code",
   "execution_count": 8,
   "metadata": {
    "id": "epdBTC-im4Rb"
   },
   "outputs": [
    {
     "data": {
      "text/plain": [
       "dict_keys(['data', 'target', 'frame', 'target_names', 'DESCR', 'feature_names', 'filename', 'data_module'])"
      ]
     },
     "execution_count": 8,
     "metadata": {},
     "output_type": "execute_result"
    }
   ],
   "source": [
    "data.keys()"
   ]
  },
  {
   "cell_type": "code",
   "execution_count": 9,
   "metadata": {
    "id": "Iv9QGESOm6ni"
   },
   "outputs": [
    {
     "name": "stdout",
     "output_type": "stream",
     "text": [
      ".. _breast_cancer_dataset:\n",
      "\n",
      "Breast cancer wisconsin (diagnostic) dataset\n",
      "--------------------------------------------\n",
      "\n",
      "**Data Set Characteristics:**\n",
      "\n",
      "    :Number of Instances: 569\n",
      "\n",
      "    :Number of Attributes: 30 numeric, predictive attributes and the class\n",
      "\n",
      "    :Attribute Information:\n",
      "        - radius (mean of distances from center to points on the perimeter)\n",
      "        - texture (standard deviation of gray-scale values)\n",
      "        - perimeter\n",
      "        - area\n",
      "        - smoothness (local variation in radius lengths)\n",
      "        - compactness (perimeter^2 / area - 1.0)\n",
      "        - concavity (severity of concave portions of the contour)\n",
      "        - concave points (number of concave portions of the contour)\n",
      "        - symmetry\n",
      "        - fractal dimension (\"coastline approximation\" - 1)\n",
      "\n",
      "        The mean, standard error, and \"worst\" or largest (mean of the three\n",
      "        worst/largest values) of these features were computed for each image,\n",
      "        resulting in 30 features.  For instance, field 0 is Mean Radius, field\n",
      "        10 is Radius SE, field 20 is Worst Radius.\n",
      "\n",
      "        - class:\n",
      "                - WDBC-Malignant\n",
      "                - WDBC-Benign\n",
      "\n",
      "    :Summary Statistics:\n",
      "\n",
      "    ===================================== ====== ======\n",
      "                                           Min    Max\n",
      "    ===================================== ====== ======\n",
      "    radius (mean):                        6.981  28.11\n",
      "    texture (mean):                       9.71   39.28\n",
      "    perimeter (mean):                     43.79  188.5\n",
      "    area (mean):                          143.5  2501.0\n",
      "    smoothness (mean):                    0.053  0.163\n",
      "    compactness (mean):                   0.019  0.345\n",
      "    concavity (mean):                     0.0    0.427\n",
      "    concave points (mean):                0.0    0.201\n",
      "    symmetry (mean):                      0.106  0.304\n",
      "    fractal dimension (mean):             0.05   0.097\n",
      "    radius (standard error):              0.112  2.873\n",
      "    texture (standard error):             0.36   4.885\n",
      "    perimeter (standard error):           0.757  21.98\n",
      "    area (standard error):                6.802  542.2\n",
      "    smoothness (standard error):          0.002  0.031\n",
      "    compactness (standard error):         0.002  0.135\n",
      "    concavity (standard error):           0.0    0.396\n",
      "    concave points (standard error):      0.0    0.053\n",
      "    symmetry (standard error):            0.008  0.079\n",
      "    fractal dimension (standard error):   0.001  0.03\n",
      "    radius (worst):                       7.93   36.04\n",
      "    texture (worst):                      12.02  49.54\n",
      "    perimeter (worst):                    50.41  251.2\n",
      "    area (worst):                         185.2  4254.0\n",
      "    smoothness (worst):                   0.071  0.223\n",
      "    compactness (worst):                  0.027  1.058\n",
      "    concavity (worst):                    0.0    1.252\n",
      "    concave points (worst):               0.0    0.291\n",
      "    symmetry (worst):                     0.156  0.664\n",
      "    fractal dimension (worst):            0.055  0.208\n",
      "    ===================================== ====== ======\n",
      "\n",
      "    :Missing Attribute Values: None\n",
      "\n",
      "    :Class Distribution: 212 - Malignant, 357 - Benign\n",
      "\n",
      "    :Creator:  Dr. William H. Wolberg, W. Nick Street, Olvi L. Mangasarian\n",
      "\n",
      "    :Donor: Nick Street\n",
      "\n",
      "    :Date: November, 1995\n",
      "\n",
      "This is a copy of UCI ML Breast Cancer Wisconsin (Diagnostic) datasets.\n",
      "https://goo.gl/U2Uwz2\n",
      "\n",
      "Features are computed from a digitized image of a fine needle\n",
      "aspirate (FNA) of a breast mass.  They describe\n",
      "characteristics of the cell nuclei present in the image.\n",
      "\n",
      "Separating plane described above was obtained using\n",
      "Multisurface Method-Tree (MSM-T) [K. P. Bennett, \"Decision Tree\n",
      "Construction Via Linear Programming.\" Proceedings of the 4th\n",
      "Midwest Artificial Intelligence and Cognitive Science Society,\n",
      "pp. 97-101, 1992], a classification method which uses linear\n",
      "programming to construct a decision tree.  Relevant features\n",
      "were selected using an exhaustive search in the space of 1-4\n",
      "features and 1-3 separating planes.\n",
      "\n",
      "The actual linear program used to obtain the separating plane\n",
      "in the 3-dimensional space is that described in:\n",
      "[K. P. Bennett and O. L. Mangasarian: \"Robust Linear\n",
      "Programming Discrimination of Two Linearly Inseparable Sets\",\n",
      "Optimization Methods and Software 1, 1992, 23-34].\n",
      "\n",
      "This database is also available through the UW CS ftp server:\n",
      "\n",
      "ftp ftp.cs.wisc.edu\n",
      "cd math-prog/cpo-dataset/machine-learn/WDBC/\n",
      "\n",
      ".. topic:: References\n",
      "\n",
      "   - W.N. Street, W.H. Wolberg and O.L. Mangasarian. Nuclear feature extraction \n",
      "     for breast tumor diagnosis. IS&T/SPIE 1993 International Symposium on \n",
      "     Electronic Imaging: Science and Technology, volume 1905, pages 861-870,\n",
      "     San Jose, CA, 1993.\n",
      "   - O.L. Mangasarian, W.N. Street and W.H. Wolberg. Breast cancer diagnosis and \n",
      "     prognosis via linear programming. Operations Research, 43(4), pages 570-577, \n",
      "     July-August 1995.\n",
      "   - W.H. Wolberg, W.N. Street, and O.L. Mangasarian. Machine learning techniques\n",
      "     to diagnose breast cancer from fine-needle aspirates. Cancer Letters 77 (1994) \n",
      "     163-171.\n"
     ]
    }
   ],
   "source": [
    "print(data['DESCR'])"
   ]
  },
  {
   "cell_type": "code",
   "execution_count": 10,
   "metadata": {
    "id": "LD9ptFjvnuyz"
   },
   "outputs": [
    {
     "data": {
      "text/plain": [
       "(569, 30)"
      ]
     },
     "execution_count": 10,
     "metadata": {},
     "output_type": "execute_result"
    }
   ],
   "source": [
    "data['data'].shape"
   ]
  },
  {
   "cell_type": "code",
   "execution_count": 11,
   "metadata": {
    "id": "gIOjFb1ypLqB"
   },
   "outputs": [
    {
     "data": {
      "text/plain": [
       "array(['mean radius', 'mean texture', 'mean perimeter', 'mean area',\n",
       "       'mean smoothness', 'mean compactness', 'mean concavity',\n",
       "       'mean concave points', 'mean symmetry', 'mean fractal dimension',\n",
       "       'radius error', 'texture error', 'perimeter error', 'area error',\n",
       "       'smoothness error', 'compactness error', 'concavity error',\n",
       "       'concave points error', 'symmetry error',\n",
       "       'fractal dimension error', 'worst radius', 'worst texture',\n",
       "       'worst perimeter', 'worst area', 'worst smoothness',\n",
       "       'worst compactness', 'worst concavity', 'worst concave points',\n",
       "       'worst symmetry', 'worst fractal dimension'], dtype='<U23')"
      ]
     },
     "execution_count": 11,
     "metadata": {},
     "output_type": "execute_result"
    }
   ],
   "source": [
    "data['feature_names']"
   ]
  },
  {
   "cell_type": "code",
   "execution_count": 12,
   "metadata": {
    "id": "_Or3hS_KpeR0"
   },
   "outputs": [
    {
     "data": {
      "text/plain": [
       "array([1.799e+01, 1.038e+01, 1.228e+02, 1.001e+03, 1.184e-01, 2.776e-01,\n",
       "       3.001e-01, 1.471e-01, 2.419e-01, 7.871e-02, 1.095e+00, 9.053e-01,\n",
       "       8.589e+00, 1.534e+02, 6.399e-03, 4.904e-02, 5.373e-02, 1.587e-02,\n",
       "       3.003e-02, 6.193e-03, 2.538e+01, 1.733e+01, 1.846e+02, 2.019e+03,\n",
       "       1.622e-01, 6.656e-01, 7.119e-01, 2.654e-01, 4.601e-01, 1.189e-01])"
      ]
     },
     "execution_count": 12,
     "metadata": {},
     "output_type": "execute_result"
    }
   ],
   "source": [
    "data['data'][0]"
   ]
  },
  {
   "cell_type": "code",
   "execution_count": 13,
   "metadata": {
    "id": "66RDgPoPpkDH"
   },
   "outputs": [
    {
     "name": "stdout",
     "output_type": "stream",
     "text": [
      "mean radius : 17.99\n",
      "mean texture : 10.38\n",
      "mean perimeter : 122.8\n",
      "mean area : 1001.0\n",
      "mean smoothness : 0.1184\n",
      "mean compactness : 0.2776\n",
      "mean concavity : 0.3001\n",
      "mean concave points : 0.1471\n",
      "mean symmetry : 0.2419\n",
      "mean fractal dimension : 0.07871\n",
      "radius error : 1.095\n",
      "texture error : 0.9053\n",
      "perimeter error : 8.589\n",
      "area error : 153.4\n",
      "smoothness error : 0.006399\n",
      "compactness error : 0.04904\n",
      "concavity error : 0.05373\n",
      "concave points error : 0.01587\n",
      "symmetry error : 0.03003\n",
      "fractal dimension error : 0.006193\n",
      "worst radius : 25.38\n",
      "worst texture : 17.33\n",
      "worst perimeter : 184.6\n",
      "worst area : 2019.0\n",
      "worst smoothness : 0.1622\n",
      "worst compactness : 0.6656\n",
      "worst concavity : 0.7119\n",
      "worst concave points : 0.2654\n",
      "worst symmetry : 0.4601\n",
      "worst fractal dimension : 0.1189\n"
     ]
    }
   ],
   "source": [
    "j = 0\n",
    "for i in data['feature_names']:\n",
    "  print(i,\":\",data['data'][0][j])\n",
    "  j+=1"
   ]
  },
  {
   "cell_type": "code",
   "execution_count": 14,
   "metadata": {
    "id": "Nzk4dIoOqu1t"
   },
   "outputs": [],
   "source": [
    "feature = data['data']"
   ]
  },
  {
   "cell_type": "code",
   "execution_count": 15,
   "metadata": {
    "id": "KqwgdGdzp0ZX"
   },
   "outputs": [],
   "source": [
    "label = data['target']"
   ]
  },
  {
   "cell_type": "code",
   "execution_count": 16,
   "metadata": {
    "id": "UmP62MQWqiK1"
   },
   "outputs": [
    {
     "data": {
      "text/plain": [
       "array(['malignant', 'benign'], dtype='<U9')"
      ]
     },
     "execution_count": 16,
     "metadata": {},
     "output_type": "execute_result"
    }
   ],
   "source": [
    "data['target_names']"
   ]
  },
  {
   "cell_type": "code",
   "execution_count": 17,
   "metadata": {
    "id": "apyfDrfeqnC1"
   },
   "outputs": [
    {
     "data": {
      "text/plain": [
       "(569, 30)"
      ]
     },
     "execution_count": 17,
     "metadata": {},
     "output_type": "execute_result"
    }
   ],
   "source": [
    "feature.shape"
   ]
  },
  {
   "cell_type": "code",
   "execution_count": 18,
   "metadata": {
    "id": "Kn1TAFLfsQBc"
   },
   "outputs": [
    {
     "data": {
      "text/plain": [
       "(569,)"
      ]
     },
     "execution_count": 18,
     "metadata": {},
     "output_type": "execute_result"
    }
   ],
   "source": [
    "label.shape"
   ]
  },
  {
   "cell_type": "code",
   "execution_count": 19,
   "metadata": {
    "id": "LoUal6dDsr0T"
   },
   "outputs": [],
   "source": [
    "scale = StandardScaler()\n",
    "\n",
    "feature = scale.fit_transform(feature)"
   ]
  },
  {
   "cell_type": "code",
   "execution_count": 20,
   "metadata": {
    "id": "r_FOyQMHt8PT"
   },
   "outputs": [
    {
     "name": "stdout",
     "output_type": "stream",
     "text": [
      "mean radius : 1.0970639814699807\n",
      "mean texture : -2.0733350146975935\n",
      "mean perimeter : 1.2699336881399383\n",
      "mean area : 0.9843749048031144\n",
      "mean smoothness : 1.568466329243428\n",
      "mean compactness : 3.2835146709868264\n",
      "mean concavity : 2.652873983743168\n",
      "mean concave points : 2.532475216403245\n",
      "mean symmetry : 2.2175150059646405\n",
      "mean fractal dimension : 2.255746885296269\n",
      "radius error : 2.4897339267376193\n",
      "texture error : -0.5652650590684639\n",
      "perimeter error : 2.833030865855184\n",
      "area error : 2.4875775569611043\n",
      "smoothness error : -0.21400164666895383\n",
      "compactness error : 1.3168615683959484\n",
      "concavity error : 0.72402615808036\n",
      "concave points error : 0.6608199414286064\n",
      "symmetry error : 1.1487566671861758\n",
      "fractal dimension error : 0.9070830809973359\n",
      "worst radius : 1.8866896251792757\n",
      "worst texture : -1.3592934737640827\n",
      "worst perimeter : 2.3036006236225606\n",
      "worst area : 2.0012374893299207\n",
      "worst smoothness : 1.3076862710715387\n",
      "worst compactness : 2.616665023512603\n",
      "worst concavity : 2.1095263465722556\n",
      "worst concave points : 2.296076127561788\n",
      "worst symmetry : 2.750622244124955\n",
      "worst fractal dimension : 1.9370146123781782\n"
     ]
    }
   ],
   "source": [
    "j = 0\n",
    "for i in data['feature_names']:\n",
    "  print(i,\":\",feature[0][j])\n",
    "  j+=1"
   ]
  },
  {
   "cell_type": "code",
   "execution_count": 21,
   "metadata": {
    "id": "AKKH4JKKuRTt"
   },
   "outputs": [
    {
     "name": "stdout",
     "output_type": "stream",
     "text": [
      "[-1.80840125  1.22179204 -1.81438851 -1.34778924 -3.11208479 -1.15075248\n",
      " -1.11487284 -1.26181958 -0.8200699  -0.56103238 -0.07027874  0.3830925\n",
      " -0.15744905 -0.46615196  0.04934236 -1.16351619 -1.05750068 -1.91344745\n",
      "  0.75282996 -0.382754   -1.41089258  0.76418957 -1.43273495 -1.07581292\n",
      " -1.85901852 -1.2075525  -1.30583065 -1.74506282 -0.04813821 -0.75120669]\n",
      "benign 1\n"
     ]
    }
   ],
   "source": [
    "print(feature[568])\n",
    "print(data['target_names'][label[568]],label[568])\n"
   ]
  },
  {
   "cell_type": "code",
   "execution_count": 22,
   "metadata": {
    "id": "Ms1YidTfusxT"
   },
   "outputs": [],
   "source": [
    "df_frt = pd.DataFrame(feature , columns = data['feature_names'])\n",
    "df_lbl = pd.DataFrame(label , columns = ['label'])\n",
    "df = pd.concat([df_frt, df_lbl], axis=1)\n",
    "df = df.sample(frac = 1)\n",
    "\n",
    "feature = df.values[ : , : 30]\n",
    "label = df.values[ : ,30: ]"
   ]
  },
  {
   "cell_type": "code",
   "execution_count": 23,
   "metadata": {
    "id": "70TWMaSt-W4y"
   },
   "outputs": [
    {
     "data": {
      "text/html": [
       "<div>\n",
       "<style scoped>\n",
       "    .dataframe tbody tr th:only-of-type {\n",
       "        vertical-align: middle;\n",
       "    }\n",
       "\n",
       "    .dataframe tbody tr th {\n",
       "        vertical-align: top;\n",
       "    }\n",
       "\n",
       "    .dataframe thead th {\n",
       "        text-align: right;\n",
       "    }\n",
       "</style>\n",
       "<table border=\"1\" class=\"dataframe\">\n",
       "  <thead>\n",
       "    <tr style=\"text-align: right;\">\n",
       "      <th></th>\n",
       "      <th>mean radius</th>\n",
       "      <th>mean texture</th>\n",
       "      <th>mean perimeter</th>\n",
       "      <th>mean area</th>\n",
       "      <th>mean smoothness</th>\n",
       "      <th>mean compactness</th>\n",
       "      <th>mean concavity</th>\n",
       "      <th>mean concave points</th>\n",
       "      <th>mean symmetry</th>\n",
       "      <th>mean fractal dimension</th>\n",
       "      <th>...</th>\n",
       "      <th>worst texture</th>\n",
       "      <th>worst perimeter</th>\n",
       "      <th>worst area</th>\n",
       "      <th>worst smoothness</th>\n",
       "      <th>worst compactness</th>\n",
       "      <th>worst concavity</th>\n",
       "      <th>worst concave points</th>\n",
       "      <th>worst symmetry</th>\n",
       "      <th>worst fractal dimension</th>\n",
       "      <th>label</th>\n",
       "    </tr>\n",
       "  </thead>\n",
       "  <tbody>\n",
       "    <tr>\n",
       "      <th>278</th>\n",
       "      <td>-0.152598</td>\n",
       "      <td>-0.337343</td>\n",
       "      <td>-0.235980</td>\n",
       "      <td>-0.234892</td>\n",
       "      <td>-1.201293</td>\n",
       "      <td>-1.209502</td>\n",
       "      <td>-0.864150</td>\n",
       "      <td>-0.942490</td>\n",
       "      <td>-0.871183</td>\n",
       "      <td>-1.077040</td>\n",
       "      <td>...</td>\n",
       "      <td>0.068847</td>\n",
       "      <td>-0.248748</td>\n",
       "      <td>-0.248715</td>\n",
       "      <td>-1.199727</td>\n",
       "      <td>-1.132615</td>\n",
       "      <td>-0.797293</td>\n",
       "      <td>-0.955564</td>\n",
       "      <td>-0.915269</td>\n",
       "      <td>-1.181233</td>\n",
       "      <td>1</td>\n",
       "    </tr>\n",
       "    <tr>\n",
       "      <th>0</th>\n",
       "      <td>1.097064</td>\n",
       "      <td>-2.073335</td>\n",
       "      <td>1.269934</td>\n",
       "      <td>0.984375</td>\n",
       "      <td>1.568466</td>\n",
       "      <td>3.283515</td>\n",
       "      <td>2.652874</td>\n",
       "      <td>2.532475</td>\n",
       "      <td>2.217515</td>\n",
       "      <td>2.255747</td>\n",
       "      <td>...</td>\n",
       "      <td>-1.359293</td>\n",
       "      <td>2.303601</td>\n",
       "      <td>2.001237</td>\n",
       "      <td>1.307686</td>\n",
       "      <td>2.616665</td>\n",
       "      <td>2.109526</td>\n",
       "      <td>2.296076</td>\n",
       "      <td>2.750622</td>\n",
       "      <td>1.937015</td>\n",
       "      <td>0</td>\n",
       "    </tr>\n",
       "    <tr>\n",
       "      <th>519</th>\n",
       "      <td>-0.391170</td>\n",
       "      <td>-0.602629</td>\n",
       "      <td>-0.389619</td>\n",
       "      <td>-0.458154</td>\n",
       "      <td>1.148590</td>\n",
       "      <td>0.139464</td>\n",
       "      <td>-0.627740</td>\n",
       "      <td>-0.489290</td>\n",
       "      <td>1.125883</td>\n",
       "      <td>0.486577</td>\n",
       "      <td>...</td>\n",
       "      <td>-0.641152</td>\n",
       "      <td>-0.406017</td>\n",
       "      <td>-0.450875</td>\n",
       "      <td>0.663299</td>\n",
       "      <td>-0.358560</td>\n",
       "      <td>-0.623143</td>\n",
       "      <td>-0.520083</td>\n",
       "      <td>0.275418</td>\n",
       "      <td>0.090005</td>\n",
       "      <td>1</td>\n",
       "    </tr>\n",
       "    <tr>\n",
       "      <th>304</th>\n",
       "      <td>-0.757549</td>\n",
       "      <td>-0.262877</td>\n",
       "      <td>-0.757036</td>\n",
       "      <td>-0.716114</td>\n",
       "      <td>-0.557245</td>\n",
       "      <td>-0.519289</td>\n",
       "      <td>-0.695035</td>\n",
       "      <td>-0.874394</td>\n",
       "      <td>-1.462636</td>\n",
       "      <td>-0.052113</td>\n",
       "      <td>...</td>\n",
       "      <td>-0.662322</td>\n",
       "      <td>-0.731874</td>\n",
       "      <td>-0.686963</td>\n",
       "      <td>-0.787669</td>\n",
       "      <td>-0.479427</td>\n",
       "      <td>-0.717654</td>\n",
       "      <td>-0.906230</td>\n",
       "      <td>-1.120727</td>\n",
       "      <td>-0.419266</td>\n",
       "      <td>1</td>\n",
       "    </tr>\n",
       "    <tr>\n",
       "      <th>152</th>\n",
       "      <td>-1.248609</td>\n",
       "      <td>-0.919110</td>\n",
       "      <td>-1.161112</td>\n",
       "      <td>-1.008772</td>\n",
       "      <td>0.771413</td>\n",
       "      <td>1.052926</td>\n",
       "      <td>4.042709</td>\n",
       "      <td>0.764814</td>\n",
       "      <td>2.688487</td>\n",
       "      <td>4.275833</td>\n",
       "      <td>...</td>\n",
       "      <td>-1.007551</td>\n",
       "      <td>-1.078879</td>\n",
       "      <td>-0.879102</td>\n",
       "      <td>-0.138898</td>\n",
       "      <td>0.145898</td>\n",
       "      <td>2.635815</td>\n",
       "      <td>0.647036</td>\n",
       "      <td>0.335276</td>\n",
       "      <td>2.324925</td>\n",
       "      <td>1</td>\n",
       "    </tr>\n",
       "    <tr>\n",
       "      <th>...</th>\n",
       "      <td>...</td>\n",
       "      <td>...</td>\n",
       "      <td>...</td>\n",
       "      <td>...</td>\n",
       "      <td>...</td>\n",
       "      <td>...</td>\n",
       "      <td>...</td>\n",
       "      <td>...</td>\n",
       "      <td>...</td>\n",
       "      <td>...</td>\n",
       "      <td>...</td>\n",
       "      <td>...</td>\n",
       "      <td>...</td>\n",
       "      <td>...</td>\n",
       "      <td>...</td>\n",
       "      <td>...</td>\n",
       "      <td>...</td>\n",
       "      <td>...</td>\n",
       "      <td>...</td>\n",
       "      <td>...</td>\n",
       "      <td>...</td>\n",
       "    </tr>\n",
       "    <tr>\n",
       "      <th>299</th>\n",
       "      <td>-1.027362</td>\n",
       "      <td>0.884367</td>\n",
       "      <td>-1.034658</td>\n",
       "      <td>-0.912073</td>\n",
       "      <td>0.365770</td>\n",
       "      <td>-0.689284</td>\n",
       "      <td>-0.801626</td>\n",
       "      <td>-0.778182</td>\n",
       "      <td>-0.425768</td>\n",
       "      <td>0.391598</td>\n",
       "      <td>...</td>\n",
       "      <td>-0.237300</td>\n",
       "      <td>-1.106878</td>\n",
       "      <td>-0.910393</td>\n",
       "      <td>-0.792053</td>\n",
       "      <td>-1.069510</td>\n",
       "      <td>-1.106350</td>\n",
       "      <td>-1.269232</td>\n",
       "      <td>-1.089989</td>\n",
       "      <td>-0.896396</td>\n",
       "      <td>1</td>\n",
       "    </tr>\n",
       "    <tr>\n",
       "      <th>213</th>\n",
       "      <td>0.935176</td>\n",
       "      <td>1.459153</td>\n",
       "      <td>0.928055</td>\n",
       "      <td>0.833637</td>\n",
       "      <td>0.301721</td>\n",
       "      <td>0.194424</td>\n",
       "      <td>0.996873</td>\n",
       "      <td>0.439809</td>\n",
       "      <td>-1.838683</td>\n",
       "      <td>-0.586549</td>\n",
       "      <td>...</td>\n",
       "      <td>0.389649</td>\n",
       "      <td>0.391350</td>\n",
       "      <td>0.246841</td>\n",
       "      <td>-0.353694</td>\n",
       "      <td>-0.476882</td>\n",
       "      <td>0.038915</td>\n",
       "      <td>-0.071660</td>\n",
       "      <td>-2.099484</td>\n",
       "      <td>-0.873676</td>\n",
       "      <td>0</td>\n",
       "    </tr>\n",
       "    <tr>\n",
       "      <th>11</th>\n",
       "      <td>0.469393</td>\n",
       "      <td>-0.325708</td>\n",
       "      <td>0.479082</td>\n",
       "      <td>0.358672</td>\n",
       "      <td>0.052642</td>\n",
       "      <td>0.471115</td>\n",
       "      <td>0.134849</td>\n",
       "      <td>0.442131</td>\n",
       "      <td>0.110921</td>\n",
       "      <td>-0.280347</td>\n",
       "      <td>...</td>\n",
       "      <td>0.261002</td>\n",
       "      <td>0.870902</td>\n",
       "      <td>0.735540</td>\n",
       "      <td>0.316995</td>\n",
       "      <td>1.950627</td>\n",
       "      <td>0.596387</td>\n",
       "      <td>1.010951</td>\n",
       "      <td>1.441838</td>\n",
       "      <td>1.155652</td>\n",
       "      <td>0</td>\n",
       "    </tr>\n",
       "    <tr>\n",
       "      <th>20</th>\n",
       "      <td>-0.297446</td>\n",
       "      <td>-0.833008</td>\n",
       "      <td>-0.261106</td>\n",
       "      <td>-0.383638</td>\n",
       "      <td>0.792763</td>\n",
       "      <td>0.429422</td>\n",
       "      <td>-0.541362</td>\n",
       "      <td>-0.459627</td>\n",
       "      <td>0.567289</td>\n",
       "      <td>0.753087</td>\n",
       "      <td>...</td>\n",
       "      <td>-0.844707</td>\n",
       "      <td>-0.332744</td>\n",
       "      <td>-0.439624</td>\n",
       "      <td>-0.051226</td>\n",
       "      <td>0.148443</td>\n",
       "      <td>-0.399099</td>\n",
       "      <td>-0.636110</td>\n",
       "      <td>0.458227</td>\n",
       "      <td>-0.117250</td>\n",
       "      <td>1</td>\n",
       "    </tr>\n",
       "    <tr>\n",
       "      <th>120</th>\n",
       "      <td>-0.771749</td>\n",
       "      <td>-1.970944</td>\n",
       "      <td>-0.767334</td>\n",
       "      <td>-0.715545</td>\n",
       "      <td>-0.187185</td>\n",
       "      <td>-0.710510</td>\n",
       "      <td>-0.673942</td>\n",
       "      <td>-0.585243</td>\n",
       "      <td>-0.527994</td>\n",
       "      <td>-0.236401</td>\n",
       "      <td>...</td>\n",
       "      <td>-1.580761</td>\n",
       "      <td>-0.700599</td>\n",
       "      <td>-0.650574</td>\n",
       "      <td>0.983301</td>\n",
       "      <td>-0.097107</td>\n",
       "      <td>-0.297391</td>\n",
       "      <td>-0.381064</td>\n",
       "      <td>0.186440</td>\n",
       "      <td>0.071164</td>\n",
       "      <td>1</td>\n",
       "    </tr>\n",
       "  </tbody>\n",
       "</table>\n",
       "<p>569 rows × 31 columns</p>\n",
       "</div>"
      ],
      "text/plain": [
       "     mean radius  mean texture  mean perimeter  mean area  mean smoothness   \n",
       "278    -0.152598     -0.337343       -0.235980  -0.234892        -1.201293  \\\n",
       "0       1.097064     -2.073335        1.269934   0.984375         1.568466   \n",
       "519    -0.391170     -0.602629       -0.389619  -0.458154         1.148590   \n",
       "304    -0.757549     -0.262877       -0.757036  -0.716114        -0.557245   \n",
       "152    -1.248609     -0.919110       -1.161112  -1.008772         0.771413   \n",
       "..           ...           ...             ...        ...              ...   \n",
       "299    -1.027362      0.884367       -1.034658  -0.912073         0.365770   \n",
       "213     0.935176      1.459153        0.928055   0.833637         0.301721   \n",
       "11      0.469393     -0.325708        0.479082   0.358672         0.052642   \n",
       "20     -0.297446     -0.833008       -0.261106  -0.383638         0.792763   \n",
       "120    -0.771749     -1.970944       -0.767334  -0.715545        -0.187185   \n",
       "\n",
       "     mean compactness  mean concavity  mean concave points  mean symmetry   \n",
       "278         -1.209502       -0.864150            -0.942490      -0.871183  \\\n",
       "0            3.283515        2.652874             2.532475       2.217515   \n",
       "519          0.139464       -0.627740            -0.489290       1.125883   \n",
       "304         -0.519289       -0.695035            -0.874394      -1.462636   \n",
       "152          1.052926        4.042709             0.764814       2.688487   \n",
       "..                ...             ...                  ...            ...   \n",
       "299         -0.689284       -0.801626            -0.778182      -0.425768   \n",
       "213          0.194424        0.996873             0.439809      -1.838683   \n",
       "11           0.471115        0.134849             0.442131       0.110921   \n",
       "20           0.429422       -0.541362            -0.459627       0.567289   \n",
       "120         -0.710510       -0.673942            -0.585243      -0.527994   \n",
       "\n",
       "     mean fractal dimension  ...  worst texture  worst perimeter  worst area   \n",
       "278               -1.077040  ...       0.068847        -0.248748   -0.248715  \\\n",
       "0                  2.255747  ...      -1.359293         2.303601    2.001237   \n",
       "519                0.486577  ...      -0.641152        -0.406017   -0.450875   \n",
       "304               -0.052113  ...      -0.662322        -0.731874   -0.686963   \n",
       "152                4.275833  ...      -1.007551        -1.078879   -0.879102   \n",
       "..                      ...  ...            ...              ...         ...   \n",
       "299                0.391598  ...      -0.237300        -1.106878   -0.910393   \n",
       "213               -0.586549  ...       0.389649         0.391350    0.246841   \n",
       "11                -0.280347  ...       0.261002         0.870902    0.735540   \n",
       "20                 0.753087  ...      -0.844707        -0.332744   -0.439624   \n",
       "120               -0.236401  ...      -1.580761        -0.700599   -0.650574   \n",
       "\n",
       "     worst smoothness  worst compactness  worst concavity   \n",
       "278         -1.199727          -1.132615        -0.797293  \\\n",
       "0            1.307686           2.616665         2.109526   \n",
       "519          0.663299          -0.358560        -0.623143   \n",
       "304         -0.787669          -0.479427        -0.717654   \n",
       "152         -0.138898           0.145898         2.635815   \n",
       "..                ...                ...              ...   \n",
       "299         -0.792053          -1.069510        -1.106350   \n",
       "213         -0.353694          -0.476882         0.038915   \n",
       "11           0.316995           1.950627         0.596387   \n",
       "20          -0.051226           0.148443        -0.399099   \n",
       "120          0.983301          -0.097107        -0.297391   \n",
       "\n",
       "     worst concave points  worst symmetry  worst fractal dimension  label  \n",
       "278             -0.955564       -0.915269                -1.181233      1  \n",
       "0                2.296076        2.750622                 1.937015      0  \n",
       "519             -0.520083        0.275418                 0.090005      1  \n",
       "304             -0.906230       -1.120727                -0.419266      1  \n",
       "152              0.647036        0.335276                 2.324925      1  \n",
       "..                    ...             ...                      ...    ...  \n",
       "299             -1.269232       -1.089989                -0.896396      1  \n",
       "213             -0.071660       -2.099484                -0.873676      0  \n",
       "11               1.010951        1.441838                 1.155652      0  \n",
       "20              -0.636110        0.458227                -0.117250      1  \n",
       "120             -0.381064        0.186440                 0.071164      1  \n",
       "\n",
       "[569 rows x 31 columns]"
      ]
     },
     "execution_count": 23,
     "metadata": {},
     "output_type": "execute_result"
    }
   ],
   "source": [
    "df"
   ]
  },
  {
   "cell_type": "code",
   "execution_count": 24,
   "metadata": {
    "id": "OwHAshL8wxmf"
   },
   "outputs": [],
   "source": [
    "#500 Training\n",
    "X_train = feature[:500]\n",
    "y_train = label[:500]\n",
    "\n",
    "#35 Validation\n",
    "X_val = feature[500:535]\n",
    "y_val = label[500:535]\n",
    "\n",
    "#34 Testing\n",
    "X_test = feature[535:]\n",
    "y_test = label[535:]"
   ]
  },
  {
   "cell_type": "code",
   "execution_count": 25,
   "metadata": {
    "id": "Nzj-pXW1vIJg"
   },
   "outputs": [],
   "source": [
    "model = Sequential()\n",
    "\n",
    "model.add(Dense(32, activation = 'relu', input_dim = 30))\n",
    "model.add(Dense(64, activation = 'relu'))\n",
    "model.add(Dense(128, activation = 'relu'))\n",
    "model.add(Dense(64, activation = 'relu'))\n",
    "model.add(Dense(32, activation = 'relu'))\n",
    "model.add(Dense(1, activation = 'sigmoid'))\n",
    "\n",
    "model.compile( loss = 'binary_crossentropy' , optimizer = 'adam' , metrics = ['accuracy'])"
   ]
  },
  {
   "cell_type": "code",
   "execution_count": 26,
   "metadata": {
    "id": "Myowb1aFz353"
   },
   "outputs": [
    {
     "name": "stdout",
     "output_type": "stream",
     "text": [
      "Epoch 1/10\n",
      "100/100 [==============================] - 1s 4ms/step - loss: 0.2176 - accuracy: 0.9400 - val_loss: 0.0492 - val_accuracy: 0.9714\n",
      "Epoch 2/10\n",
      "100/100 [==============================] - 0s 2ms/step - loss: 0.0688 - accuracy: 0.9700 - val_loss: 0.0745 - val_accuracy: 0.9429\n",
      "Epoch 3/10\n",
      "100/100 [==============================] - 0s 2ms/step - loss: 0.0484 - accuracy: 0.9820 - val_loss: 0.0639 - val_accuracy: 0.9714\n",
      "Epoch 4/10\n",
      "100/100 [==============================] - 0s 2ms/step - loss: 0.0411 - accuracy: 0.9880 - val_loss: 0.0840 - val_accuracy: 0.9714\n",
      "Epoch 5/10\n",
      "100/100 [==============================] - 0s 2ms/step - loss: 0.0355 - accuracy: 0.9920 - val_loss: 0.0948 - val_accuracy: 0.9714\n",
      "Epoch 6/10\n",
      "100/100 [==============================] - 0s 2ms/step - loss: 0.0330 - accuracy: 0.9900 - val_loss: 0.0366 - val_accuracy: 0.9714\n",
      "Epoch 7/10\n",
      "100/100 [==============================] - 0s 1ms/step - loss: 0.0248 - accuracy: 0.9900 - val_loss: 0.0085 - val_accuracy: 1.0000\n",
      "Epoch 8/10\n",
      "100/100 [==============================] - 0s 2ms/step - loss: 0.0164 - accuracy: 0.9920 - val_loss: 0.0197 - val_accuracy: 1.0000\n",
      "Epoch 9/10\n",
      "100/100 [==============================] - 0s 2ms/step - loss: 0.0069 - accuracy: 0.9980 - val_loss: 0.0023 - val_accuracy: 1.0000\n",
      "Epoch 10/10\n",
      "100/100 [==============================] - 0s 1ms/step - loss: 0.0173 - accuracy: 0.9960 - val_loss: 0.0116 - val_accuracy: 1.0000\n"
     ]
    },
    {
     "data": {
      "text/plain": [
       "<keras.callbacks.History at 0x194d70b2770>"
      ]
     },
     "execution_count": 26,
     "metadata": {},
     "output_type": "execute_result"
    }
   ],
   "source": [
    "model.fit( X_train , y_train, epochs = 10, batch_size = 5, validation_data = (X_val, y_val))"
   ]
  },
  {
   "cell_type": "code",
   "execution_count": 27,
   "metadata": {
    "id": "WjQrOpwc2S03"
   },
   "outputs": [
    {
     "name": "stdout",
     "output_type": "stream",
     "text": [
      "2/2 [==============================] - 0s 4ms/step - loss: 0.2347 - accuracy: 0.9706\n"
     ]
    },
    {
     "data": {
      "text/plain": [
       "[0.2347429394721985, 0.970588207244873]"
      ]
     },
     "execution_count": 27,
     "metadata": {},
     "output_type": "execute_result"
    }
   ],
   "source": [
    "model.evaluate(X_test , y_test)"
   ]
  },
  {
   "cell_type": "code",
   "execution_count": 28,
   "metadata": {
    "id": "Iw4189HY6bC0"
   },
   "outputs": [
    {
     "name": "stdout",
     "output_type": "stream",
     "text": [
      "2/2 [==============================] - 0s 1ms/step - loss: 0.0116 - accuracy: 1.0000\n"
     ]
    },
    {
     "data": {
      "text/plain": [
       "[0.011590126901865005, 1.0]"
      ]
     },
     "execution_count": 28,
     "metadata": {},
     "output_type": "execute_result"
    }
   ],
   "source": [
    "model.evaluate(X_val , y_val)"
   ]
  },
  {
   "cell_type": "code",
   "execution_count": 29,
   "metadata": {
    "id": "GVKgag0986kX"
   },
   "outputs": [
    {
     "name": "stdout",
     "output_type": "stream",
     "text": [
      "1/1 [==============================] - 0s 90ms/step\n",
      "-Malignant\n",
      "*Melignant\n",
      "-----------\n",
      "1/1 [==============================] - 0s 20ms/step\n",
      "-Malignant\n",
      "*Melignant\n",
      "-----------\n",
      "1/1 [==============================] - 0s 21ms/step\n",
      "-Benign\n",
      "*Banign\n",
      "-----------\n",
      "1/1 [==============================] - 0s 20ms/step\n",
      "-Benign\n",
      "*Banign\n",
      "-----------\n",
      "1/1 [==============================] - 0s 20ms/step\n",
      "-Benign\n",
      "*Banign\n",
      "-----------\n",
      "1/1 [==============================] - 0s 20ms/step\n",
      "-Malignant\n",
      "*Melignant\n",
      "-----------\n",
      "1/1 [==============================] - 0s 20ms/step\n",
      "-Benign\n",
      "*Banign\n",
      "-----------\n",
      "1/1 [==============================] - 0s 14ms/step\n",
      "-Benign\n",
      "*Banign\n",
      "-----------\n",
      "1/1 [==============================] - 0s 15ms/step\n",
      "-Benign\n",
      "*Banign\n",
      "-----------\n",
      "1/1 [==============================] - 0s 15ms/step\n",
      "-Benign\n",
      "*Banign\n",
      "-----------\n",
      "1/1 [==============================] - 0s 17ms/step\n",
      "-Malignant\n",
      "*Melignant\n",
      "-----------\n",
      "1/1 [==============================] - 0s 20ms/step\n",
      "-Benign\n",
      "*Banign\n",
      "-----------\n",
      "1/1 [==============================] - 0s 25ms/step\n",
      "-Malignant\n",
      "*Melignant\n",
      "-----------\n",
      "1/1 [==============================] - 0s 25ms/step\n",
      "-Benign\n",
      "*Banign\n",
      "-----------\n",
      "1/1 [==============================] - 0s 20ms/step\n",
      "-Benign\n",
      "*Banign\n",
      "-----------\n",
      "1/1 [==============================] - 0s 25ms/step\n",
      "-Benign\n",
      "*Banign\n",
      "-----------\n",
      "1/1 [==============================] - 0s 20ms/step\n",
      "-Malignant\n",
      "*Melignant\n",
      "-----------\n",
      "1/1 [==============================] - 0s 20ms/step\n",
      "-Benign\n",
      "*Banign\n",
      "-----------\n",
      "1/1 [==============================] - 0s 28ms/step\n",
      "-Benign\n",
      "*Banign\n",
      "-----------\n",
      "1/1 [==============================] - 0s 30ms/step\n",
      "-Benign\n",
      "*Banign\n",
      "-----------\n",
      "1/1 [==============================] - 0s 25ms/step\n",
      "-Malignant\n",
      "*Melignant\n",
      "-----------\n",
      "1/1 [==============================] - 0s 20ms/step\n",
      "-Benign\n",
      "*Banign\n",
      "-----------\n",
      "1/1 [==============================] - 0s 22ms/step\n",
      "-Malignant\n",
      "*Melignant\n",
      "-----------\n",
      "1/1 [==============================] - 0s 20ms/step\n",
      "-Malignant\n",
      "*Melignant\n",
      "-----------\n",
      "1/1 [==============================] - 0s 20ms/step\n",
      "-Malignant\n",
      "*Melignant\n",
      "-----------\n",
      "1/1 [==============================] - 0s 24ms/step\n",
      "-Benign\n",
      "*Banign\n",
      "-----------\n",
      "1/1 [==============================] - 0s 24ms/step\n",
      "-Malignant\n",
      "*Melignant\n",
      "-----------\n",
      "1/1 [==============================] - 0s 25ms/step\n",
      "-Benign\n",
      "*Banign\n",
      "-----------\n",
      "1/1 [==============================] - 0s 20ms/step\n",
      "-Malignant\n",
      "*Melignant\n",
      "-----------\n",
      "1/1 [==============================] - 0s 20ms/step\n",
      "-Benign\n",
      "*Banign\n",
      "-----------\n"
     ]
    }
   ],
   "source": [
    "for i in range(30):\n",
    "  sample = X_test[i]\n",
    "  sample = np.reshape(sample, (1,30))\n",
    "\n",
    "  if (model.predict(sample)[0][0] > 0.5):\n",
    "    print(\"-Benign\")\n",
    "  else:\n",
    "    print(\"-Malignant\")\n",
    "\n",
    "  if (y_test[i] == 1):\n",
    "    print(\"*Banign\")\n",
    "  else:\n",
    "    print(\"*Melignant\")\n",
    "  print(\"-----------\")"
   ]
  },
  {
   "cell_type": "code",
   "execution_count": 30,
   "metadata": {
    "id": "9BqHv_pn867L"
   },
   "outputs": [
    {
     "name": "stdout",
     "output_type": "stream",
     "text": [
      "21\n"
     ]
    }
   ],
   "source": [
    "# t = 0\n",
    "# for i in y_val:\n",
    "#   if (i == 1):\n",
    "#     t += 1\n",
    "\n",
    "# print(t)"
   ]
  },
  {
   "cell_type": "code",
   "execution_count": 31,
   "metadata": {
    "id": "rBBqR-XP9VpK"
   },
   "outputs": [
    {
     "name": "stdout",
     "output_type": "stream",
     "text": [
      "20\n"
     ]
    }
   ],
   "source": [
    "# t = 0\n",
    "# for i in y_test:\n",
    "#   if (i == 1):\n",
    "#     t += 1\n",
    "\n",
    "# print(t)"
   ]
  },
  {
   "cell_type": "code",
   "execution_count": 35,
   "metadata": {
    "id": "wlZ0UePBEngy"
   },
   "outputs": [
    {
     "data": {
      "text/plain": [
       "array([-0.12788331, -0.13544349, -0.13523141, -0.12318118, -0.0714481 ,\n",
       "       -0.15987282, -0.1796625 , -0.19469518, -0.13558924,  0.01173223,\n",
       "       -0.15358197, -0.04520376, -0.13405136, -0.14226948,  0.0264337 ,\n",
       "       -0.04617516, -0.06653382,  0.00350595,  0.00571852, -0.02893986,\n",
       "       -0.14248956, -0.1356941 , -0.15857619, -0.1387726 , -0.07334361,\n",
       "       -0.10905658, -0.16364905, -0.10688124, -0.08788501, -0.07688492])"
      ]
     },
     "execution_count": 35,
     "metadata": {},
     "output_type": "execute_result"
    }
   ],
   "source": [
    "X_test[0] * -.1"
   ]
  },
  {
   "cell_type": "code",
   "execution_count": 34,
   "metadata": {
    "id": "FBKtTu9mEtxP"
   },
   "outputs": [
    {
     "data": {
      "text/plain": [
       "0.9942857142857143"
      ]
     },
     "execution_count": 34,
     "metadata": {},
     "output_type": "execute_result"
    }
   ],
   "source": [
    "348/350"
   ]
  },
  {
   "cell_type": "code",
   "execution_count": 33,
   "metadata": {
    "id": "ddEotDrBGbam"
   },
   "outputs": [
    {
     "data": {
      "text/plain": [
       "0.9914285714285714"
      ]
     },
     "execution_count": 33,
     "metadata": {},
     "output_type": "execute_result"
    }
   ],
   "source": [
    "347/350"
   ]
  },
  {
   "cell_type": "code",
   "execution_count": 32,
   "metadata": {
    "id": "gQhg6wwTGckE"
   },
   "outputs": [
    {
     "data": {
      "text/plain": [
       "0.9142857142857143"
      ]
     },
     "execution_count": 32,
     "metadata": {},
     "output_type": "execute_result"
    }
   ],
   "source": [
    "32/35"
   ]
  },
  {
   "cell_type": "code",
   "execution_count": null,
   "metadata": {},
   "outputs": [],
   "source": []
  }
 ],
 "metadata": {
  "colab": {
   "private_outputs": true,
   "provenance": []
  },
  "kernelspec": {
   "display_name": "Python 3 (ipykernel)",
   "language": "python",
   "name": "python3"
  },
  "language_info": {
   "codemirror_mode": {
    "name": "ipython",
    "version": 3
   },
   "file_extension": ".py",
   "mimetype": "text/x-python",
   "name": "python",
   "nbconvert_exporter": "python",
   "pygments_lexer": "ipython3",
   "version": "3.10.8"
  }
 },
 "nbformat": 4,
 "nbformat_minor": 1
}
